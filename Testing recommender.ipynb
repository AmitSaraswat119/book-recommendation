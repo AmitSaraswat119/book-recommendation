{
 "cells": [
  {
   "cell_type": "code",
   "execution_count": 1,
   "id": "a8e7f840",
   "metadata": {},
   "outputs": [],
   "source": [
    "import pickle\n",
    "import numpy as np\n",
    "from difflib import SequenceMatcher"
   ]
  },
  {
   "cell_type": "code",
   "execution_count": 2,
   "id": "7f491ba7",
   "metadata": {},
   "outputs": [],
   "source": [
    "with open(\"popular.pkl\",'rb') as file:\n",
    "    popular_books = pickle.load(file)\n",
    "    \n",
    "with open('pt.pkl','rb') as file:\n",
    "    pt = pickle.load(file)\n",
    "    \n",
    "with open('books.pkl','rb') as file:\n",
    "    books = pickle.load(file)\n",
    "\n",
    "with open('similarity_scores.pkl','rb') as file:\n",
    "    similarity_score = pickle.load(file)"
   ]
  },
  {
   "cell_type": "code",
   "execution_count": 3,
   "id": "66e88525",
   "metadata": {},
   "outputs": [],
   "source": [
    "def similar(a, b):\n",
    "    return SequenceMatcher(None, a, b).ratio()"
   ]
  },
  {
   "cell_type": "code",
   "execution_count": 6,
   "id": "1d98ab5e",
   "metadata": {},
   "outputs": [],
   "source": [
    "def recommend(book_name):\n",
    "    if book_name not in pt.index:\n",
    "        best_match = max(pt.index, key=lambda x: similar(book_name, x))\n",
    "        print(f\"Book name not found. Using most similar book: {best_match}\")\n",
    "        book_name = best_match\n",
    "\n",
    "    index = np.where(pt.index == book_name)[0][0]\n",
    "    similar_books = sorted(list(enumerate(similarity_score[index])), key=lambda x: x[1], reverse=True)[1:6]\n",
    "\n",
    "    data = []\n",
    "\n",
    "    for i in similar_books:\n",
    "        item = []\n",
    "        temp_df = books[books['Book-Title'] == pt.index[i[0]]]\n",
    "        item.extend(list(temp_df.drop_duplicates('Book-Title')['Book-Title'].values))\n",
    "        item.extend(list(temp_df.drop_duplicates('Book-Title')['Book-Author'].values))\n",
    "        item.extend(list(temp_df.drop_duplicates('Book-Title')['Image-URL-M'].values))\n",
    "\n",
    "        data.append(item)\n",
    "    \n",
    "    recommendations = []\n",
    "    for i in data:\n",
    "        temp = {\"book\": i[0], \"author\": i[1], \"image\": i[2]}\n",
    "        recommendations.append(temp)\n",
    "    return recommendations"
   ]
  },
  {
   "cell_type": "code",
   "execution_count": 7,
   "id": "eb80321e",
   "metadata": {},
   "outputs": [
    {
     "name": "stdout",
     "output_type": "stream",
     "text": [
      "Book name not found. Using most similar book: The Alienist\n"
     ]
    },
    {
     "data": {
      "text/plain": [
       "[{'book': 'Cry Wolf',\n",
       "  'author': 'TAMI HOAG',\n",
       "  'image': 'http://images.amazon.com/images/P/055356160X.01.MZZZZZZZ.jpg'},\n",
       " {'book': 'The Poisonwood Bible',\n",
       "  'author': 'Barbara Kingsolver',\n",
       "  'image': 'http://images.amazon.com/images/P/0060175400.01.MZZZZZZZ.jpg'},\n",
       " {'book': 'The Cradle Will Fall',\n",
       "  'author': 'Mary Higgins Clark',\n",
       "  'image': 'http://images.amazon.com/images/P/0671741195.01.MZZZZZZZ.jpg'},\n",
       " {'book': 'Secret History',\n",
       "  'author': 'DONNA TARTT',\n",
       "  'image': 'http://images.amazon.com/images/P/0804111359.01.MZZZZZZZ.jpg'},\n",
       " {'book': 'The Angel of Darkness',\n",
       "  'author': 'Caleb Carr',\n",
       "  'image': 'http://images.amazon.com/images/P/0345427637.01.MZZZZZZZ.jpg'}]"
      ]
     },
     "execution_count": 7,
     "metadata": {},
     "output_type": "execute_result"
    }
   ],
   "source": [
    "recommended_books = recommend(\"the Alchemist\")\n",
    "recommended_books"
   ]
  },
  {
   "cell_type": "code",
   "execution_count": null,
   "id": "795d9cae",
   "metadata": {},
   "outputs": [],
   "source": [
    "recommendations = []\n",
    "for i in data:\n",
    "    temp = {\"book\": i[0], \"author\": i[1], \"image\": i[2]}"
   ]
  }
 ],
 "metadata": {
  "kernelspec": {
   "display_name": "Python 3 (ipykernel)",
   "language": "python",
   "name": "python3"
  },
  "language_info": {
   "codemirror_mode": {
    "name": "ipython",
    "version": 3
   },
   "file_extension": ".py",
   "mimetype": "text/x-python",
   "name": "python",
   "nbconvert_exporter": "python",
   "pygments_lexer": "ipython3",
   "version": "3.11.5"
  }
 },
 "nbformat": 4,
 "nbformat_minor": 5
}
